{
 "cells": [
  {
   "cell_type": "code",
   "execution_count": 20,
   "metadata": {
    "ExecuteTime": {
     "end_time": "2019-07-11T21:28:27.301158Z",
     "start_time": "2019-07-11T21:28:26.876378Z"
    }
   },
   "outputs": [],
   "source": [
    "# Import tmdb api wrapper library\n",
    "import tmdbsimple as tmdb\n",
    "\n",
    "# Import JSON\n",
    "import json\n",
    "\n",
    "# import time for sleeping and scraping\n",
    "import time\n",
    "\n",
    "# Import the usual suspects\n",
    "import pandas as pd\n",
    "import numpy as np\n",
    "import os\n",
    "import matplotlib.pyplot as plt\n",
    "%matplotlib inline\n",
    "\n",
    "pd.set_option('display.max_columns', 500)\n",
    "\n",
    "# pickle for saving and loading scraped info\n",
    "import pickle\n",
    "\n",
    "\n",
    "from timeit import default_timer as timer\n",
    "\n",
    "\n",
    "# Pandas profiling - great library for analyzing dataframes\n",
    "import pandas_profiling as pp"
   ]
  },
  {
   "cell_type": "code",
   "execution_count": 2,
   "metadata": {
    "ExecuteTime": {
     "end_time": "2019-07-11T21:15:09.008614Z",
     "start_time": "2019-07-11T21:15:09.003320Z"
    }
   },
   "outputs": [],
   "source": [
    "# Import api key\n",
    "tmdb.API_KEY = open('../api_key', 'rt').read()"
   ]
  },
  {
   "cell_type": "code",
   "execution_count": 3,
   "metadata": {
    "ExecuteTime": {
     "end_time": "2019-07-11T21:15:09.925926Z",
     "start_time": "2019-07-11T21:15:09.593307Z"
    }
   },
   "outputs": [],
   "source": [
    "# Load list of json info for all currently valid TV shows\n",
    "tv_series_json = [json.loads(line) for line in open('../data/raw/tv_series_ids_07_09_2019.json', 'r')]"
   ]
  },
  {
   "cell_type": "code",
   "execution_count": 4,
   "metadata": {
    "ExecuteTime": {
     "end_time": "2019-07-11T21:15:10.862683Z",
     "start_time": "2019-07-11T21:15:10.854332Z"
    }
   },
   "outputs": [],
   "source": [
    "# Extract ids into list\n",
    "tv_series_id = [x['id'] for x in tv_series_json]"
   ]
  },
  {
   "cell_type": "code",
   "execution_count": 5,
   "metadata": {
    "ExecuteTime": {
     "end_time": "2019-07-11T21:15:11.802539Z",
     "start_time": "2019-07-11T21:15:11.797781Z"
    }
   },
   "outputs": [
    {
     "name": "stdout",
     "output_type": "stream",
     "text": [
      "[601, 602, 603, 604, 605, 606, 607, 608, 609, 610, 611, 612, 613, 614, 615, 616, 617, 618, 619, 620, 621, 622, 623, 625, 626, 627, 628, 629, 630, 631, 632, 633, 634, 635, 636, 637, 638, 639, 640, 641, 642, 643, 644, 645, 646, 647, 648, 649, 650, 651, 652, 653, 654, 655, 656, 657, 658, 660, 661, 662, 663, 664, 665, 666, 667, 668, 669, 670, 671, 672, 673, 674, 675, 676, 677, 678, 679, 680, 681, 682, 683, 684, 685, 686, 687, 688, 689, 690, 691, 692, 693, 694, 695, 696, 697, 698, 699, 700, 701, 702]\n"
     ]
    }
   ],
   "source": [
    "print(tv_series_id[:100])"
   ]
  },
  {
   "cell_type": "code",
   "execution_count": 9,
   "metadata": {
    "ExecuteTime": {
     "end_time": "2019-07-11T21:20:07.123907Z",
     "start_time": "2019-07-11T21:20:02.842263Z"
    }
   },
   "outputs": [
    {
     "data": {
      "text/plain": [
       "82817"
      ]
     },
     "execution_count": 9,
     "metadata": {},
     "output_type": "execute_result"
    }
   ],
   "source": [
    "# Load existing pickles into list\n",
    "\n",
    "tv_shows_info = []\n",
    "\n",
    "f_num = 0\n",
    "exists = True\n",
    "while(exists):\n",
    "    f_num += 1\n",
    "    exists = os.path.isfile(\n",
    "        '../data/processed/tv_shows_info_{}.pkl'.format(f_num))\n",
    "\n",
    "    if exists:\n",
    "        with open('../data/processed/tv_shows_info_{}.pkl'.format(f_num), 'rb') as f:\n",
    "            mynewlist = pickle.load(f)\n",
    "        tv_shows_info.extend(mynewlist)\n",
    "    \n",
    "\n",
    "len(tv_shows_info)\n",
    "\n"
   ]
  },
  {
   "cell_type": "code",
   "execution_count": 10,
   "metadata": {
    "ExecuteTime": {
     "end_time": "2019-07-11T21:20:24.465012Z",
     "start_time": "2019-07-11T21:20:24.417950Z"
    }
   },
   "outputs": [
    {
     "name": "stdout",
     "output_type": "stream",
     "text": [
      "82817\n",
      "[601, 602, 603, 604, 605, 606, 607, 608, 609, 610, 611, 612, 613, 614, 615, 616, 617, 618, 619, 620, 621, 622, 623, 625, 626, 627, 628, 629, 630, 631, 632, 633, 634, 635, 636, 637, 638, 639, 640, 641, 642, 643, 644, 645, 646, 647, 648, 649, 650, 651, 652, 653, 654, 655, 656, 657, 658, 660, 661, 662, 663, 664, 665, 666, 667, 668, 669, 670, 671, 672, 673, 674, 675, 676, 677, 678, 679, 680, 681, 682, 683, 684, 685, 686, 687, 688, 689, 690, 691, 692, 693, 694, 695, 696, 697, 698, 699, 700, 701, 702]\n"
     ]
    }
   ],
   "source": [
    "already_scraped_id = [x['id'] for x in tv_shows_info]\n",
    "print(len(already_scraped_id))\n",
    "print(already_scraped_id[:100])"
   ]
  },
  {
   "cell_type": "code",
   "execution_count": 11,
   "metadata": {
    "ExecuteTime": {
     "end_time": "2019-07-11T21:22:06.923944Z",
     "start_time": "2019-07-11T21:20:41.381694Z"
    },
    "scrolled": true
   },
   "outputs": [
    {
     "name": "stdout",
     "output_type": "stream",
     "text": [
      "number of shows to scrape: 7\n",
      "skipped: 88513\n",
      "skipped: 90818\n",
      "skipped: 84771\n",
      "skipped: 89161\n",
      "skipped: 30928\n",
      "skipped: 90512\n",
      "skipped: 90323\n"
     ]
    }
   ],
   "source": [
    "# scrape info for all tv shows\n",
    "count = 0\n",
    "\n",
    "remaining_tv_id = list(set(tv_series_id)-set(already_scraped_id))\n",
    "print('number of shows to scrape: {}'.format(len(remaining_tv_id)))\n",
    "\n",
    "# start new empty list to temporarily store results\n",
    "temp_list = []\n",
    "skipped_ids = []\n",
    "\n",
    "start = timer()\n",
    "for i in remaining_tv_id:\n",
    "    no_show = True\n",
    "    attempt = 0\n",
    "    while no_show:\n",
    "        try:\n",
    "            tv_show = tmdb.TV(i)\n",
    "            tv_info = tv_show.info()\n",
    "            temp_list.append(tv_info)\n",
    "            no_show = False\n",
    "        except:\n",
    "            time.sleep(1)\n",
    "            attempt += 1\n",
    "                # if trying same file multiple times, skip it\n",
    "            if attempt>10:\n",
    "                skipped_ids.append(i)\n",
    "                print('skipped: {}'.format(i))\n",
    "                break\n",
    "       \n",
    "    count+=1\n",
    "    \n",
    "    if count%100==0: \n",
    "        print(len(temp_list))\n",
    "        end = timer()\n",
    "        print('{:.2f} seconds'.format(end - start))\n",
    "        start = timer()\n",
    "    if count%1000==0:\n",
    "        f_num = 0\n",
    "        exists = True\n",
    "        while(exists):\n",
    "            f_num += 1\n",
    "            exists = os.path.isfile(\n",
    "                '../data/processed/tv_shows_info_{}.pkl'.format(f_num))\n",
    " \n",
    "        if not exists:\n",
    "            with open('../data/processed/tv_shows_info_{}.pkl'.format(f_num), 'wb') as f:\n",
    "                pickle.dump(temp_list, f)\n",
    "            print('saved to: ../data/processed/tv_shows_info_{}.pkl'.format(f_num))\n",
    "            temp_list = []\n",
    "\n",
    "            \n",
    "# once more at the end to catch any remaining\n",
    "if len(temp_list)>0:\n",
    "    f_num = 0\n",
    "    exists = True\n",
    "    while(exists):\n",
    "        f_num += 1\n",
    "        exists = os.path.isfile(\n",
    "            '../data/processed/tv_shows_info_{}.pkl'.format(f_num))\n",
    "\n",
    "    if not exists:\n",
    "        with open('../data/processed/tv_shows_info_{}.pkl'.format(f_num), 'wb') as f:\n",
    "            pickle.dump(temp_list, f)\n",
    "        print('saved to: ../data/processed/tv_shows_info_{}.pkl'.format(f_num))        "
   ]
  },
  {
   "cell_type": "markdown",
   "metadata": {
    "ExecuteTime": {
     "end_time": "2019-07-11T15:43:44.310080Z",
     "start_time": "2019-07-11T15:43:44.303237Z"
    }
   },
   "source": [
    "# filter for US shows"
   ]
  },
  {
   "cell_type": "code",
   "execution_count": 12,
   "metadata": {
    "ExecuteTime": {
     "end_time": "2019-07-11T21:23:53.210547Z",
     "start_time": "2019-07-11T21:23:52.412423Z"
    }
   },
   "outputs": [
    {
     "data": {
      "text/plain": [
       "(82817, 28)"
      ]
     },
     "execution_count": 12,
     "metadata": {},
     "output_type": "execute_result"
    }
   ],
   "source": [
    "tv_info_df = pd.DataFrame(tv_shows_info)\n",
    "tv_info_df.shape"
   ]
  },
  {
   "cell_type": "code",
   "execution_count": 13,
   "metadata": {
    "ExecuteTime": {
     "end_time": "2019-07-11T21:24:11.277635Z",
     "start_time": "2019-07-11T21:24:11.231832Z"
    }
   },
   "outputs": [
    {
     "data": {
      "text/html": [
       "<div>\n",
       "<style scoped>\n",
       "    .dataframe tbody tr th:only-of-type {\n",
       "        vertical-align: middle;\n",
       "    }\n",
       "\n",
       "    .dataframe tbody tr th {\n",
       "        vertical-align: top;\n",
       "    }\n",
       "\n",
       "    .dataframe thead th {\n",
       "        text-align: right;\n",
       "    }\n",
       "</style>\n",
       "<table border=\"1\" class=\"dataframe\">\n",
       "  <thead>\n",
       "    <tr style=\"text-align: right;\">\n",
       "      <th></th>\n",
       "      <th>backdrop_path</th>\n",
       "      <th>created_by</th>\n",
       "      <th>episode_run_time</th>\n",
       "      <th>first_air_date</th>\n",
       "      <th>genres</th>\n",
       "      <th>homepage</th>\n",
       "      <th>id</th>\n",
       "      <th>in_production</th>\n",
       "      <th>languages</th>\n",
       "      <th>last_air_date</th>\n",
       "      <th>last_episode_to_air</th>\n",
       "      <th>name</th>\n",
       "      <th>networks</th>\n",
       "      <th>next_episode_to_air</th>\n",
       "      <th>number_of_episodes</th>\n",
       "      <th>number_of_seasons</th>\n",
       "      <th>origin_country</th>\n",
       "      <th>original_language</th>\n",
       "      <th>original_name</th>\n",
       "      <th>overview</th>\n",
       "      <th>popularity</th>\n",
       "      <th>poster_path</th>\n",
       "      <th>production_companies</th>\n",
       "      <th>seasons</th>\n",
       "      <th>status</th>\n",
       "      <th>type</th>\n",
       "      <th>vote_average</th>\n",
       "      <th>vote_count</th>\n",
       "    </tr>\n",
       "  </thead>\n",
       "  <tbody>\n",
       "    <tr>\n",
       "      <th>0</th>\n",
       "      <td>None</td>\n",
       "      <td>[{'id': 383, 'credit_id': '525389d019c29579402...</td>\n",
       "      <td>[30]</td>\n",
       "      <td>1969-01-12</td>\n",
       "      <td>[]</td>\n",
       "      <td></td>\n",
       "      <td>601</td>\n",
       "      <td>True</td>\n",
       "      <td>[en]</td>\n",
       "      <td>1969-02-16</td>\n",
       "      <td>{'air_date': '1969-02-16', 'episode_number': 6...</td>\n",
       "      <td>The Complete and Utter History of Britain</td>\n",
       "      <td>[{'name': 'London Weekend Television', 'id': 1...</td>\n",
       "      <td>None</td>\n",
       "      <td>6.0</td>\n",
       "      <td>1</td>\n",
       "      <td>[GB]</td>\n",
       "      <td>en</td>\n",
       "      <td>The Complete and Utter History of Britain</td>\n",
       "      <td>The Complete And Utter History Of Britain was ...</td>\n",
       "      <td>0.600</td>\n",
       "      <td>None</td>\n",
       "      <td>[]</td>\n",
       "      <td>[{'air_date': '1969-01-12', 'episode_count': 6...</td>\n",
       "      <td>Ended</td>\n",
       "      <td>Scripted</td>\n",
       "      <td>0.0</td>\n",
       "      <td>0</td>\n",
       "    </tr>\n",
       "    <tr>\n",
       "      <th>1</th>\n",
       "      <td>/5ekOlsSAEHTEx4XS0cSzAQLzKcV.jpg</td>\n",
       "      <td>[{'id': 157395, 'credit_id': '525389dc19c29579...</td>\n",
       "      <td>[30]</td>\n",
       "      <td>1966-09-06</td>\n",
       "      <td>[{'id': 35, 'name': 'Comedy'}]</td>\n",
       "      <td></td>\n",
       "      <td>602</td>\n",
       "      <td>False</td>\n",
       "      <td>[en]</td>\n",
       "      <td>1967-04-06</td>\n",
       "      <td>{'air_date': '1967-04-06', 'episode_number': 3...</td>\n",
       "      <td>Love on a Rooftop</td>\n",
       "      <td>[{'name': 'ABC', 'id': 2, 'logo_path': '/ndAvF...</td>\n",
       "      <td>None</td>\n",
       "      <td>32.0</td>\n",
       "      <td>1</td>\n",
       "      <td>[US]</td>\n",
       "      <td>en</td>\n",
       "      <td>Love on a Rooftop</td>\n",
       "      <td>Love on a Rooftop was an American sitcom about...</td>\n",
       "      <td>1.313</td>\n",
       "      <td>/6sxAv9Mrw3e6WhQqd0lbRUmRZRg.jpg</td>\n",
       "      <td>[]</td>\n",
       "      <td>[{'air_date': '1966-09-06', 'episode_count': 3...</td>\n",
       "      <td>Ended</td>\n",
       "      <td>Scripted</td>\n",
       "      <td>0.0</td>\n",
       "      <td>0</td>\n",
       "    </tr>\n",
       "    <tr>\n",
       "      <th>2</th>\n",
       "      <td>/khveUylm0fqlLGuUHLg74tKozdy.jpg</td>\n",
       "      <td>[{'id': 163461, 'credit_id': '525389de19c29579...</td>\n",
       "      <td>[24]</td>\n",
       "      <td>1997-09-25</td>\n",
       "      <td>[{'id': 35, 'name': 'Comedy'}]</td>\n",
       "      <td></td>\n",
       "      <td>603</td>\n",
       "      <td>False</td>\n",
       "      <td>[en]</td>\n",
       "      <td>2000-06-27</td>\n",
       "      <td>{'air_date': '2000-06-27', 'episode_number': 1...</td>\n",
       "      <td>Veronica's Closet</td>\n",
       "      <td>[{'name': 'NBC', 'id': 6, 'logo_path': '/o3Oed...</td>\n",
       "      <td>None</td>\n",
       "      <td>62.0</td>\n",
       "      <td>3</td>\n",
       "      <td>[US]</td>\n",
       "      <td>en</td>\n",
       "      <td>Veronica's Closet</td>\n",
       "      <td>Veronica 'Ronnie' Chase is the 'Queen of Roman...</td>\n",
       "      <td>2.223</td>\n",
       "      <td>/zDSdDiZgOMS7zAda01yzZJLUiAA.jpg</td>\n",
       "      <td>[{'id': 1957, 'logo_path': '/nmcNfPq03WLtOyufJ...</td>\n",
       "      <td>[{'air_date': '1997-09-25', 'episode_count': 2...</td>\n",
       "      <td>Ended</td>\n",
       "      <td>Scripted</td>\n",
       "      <td>4.0</td>\n",
       "      <td>6</td>\n",
       "    </tr>\n",
       "    <tr>\n",
       "      <th>3</th>\n",
       "      <td>/hHwEptckXUwZM7XO2lxZ8w8upuU.jpg</td>\n",
       "      <td>[{'id': 141043, 'credit_id': '525389ed19c29579...</td>\n",
       "      <td>[23]</td>\n",
       "      <td>2003-07-20</td>\n",
       "      <td>[{'id': 16, 'name': 'Animation'}, {'id': 10759...</td>\n",
       "      <td>http://cartoonnetwork.com/tv_shows/titans/inde...</td>\n",
       "      <td>604</td>\n",
       "      <td>False</td>\n",
       "      <td>[en]</td>\n",
       "      <td>2006-01-16</td>\n",
       "      <td>{'air_date': '2006-01-16', 'episode_number': 1...</td>\n",
       "      <td>Teen Titans</td>\n",
       "      <td>[{'name': 'Cartoon Network', 'id': 56, 'logo_p...</td>\n",
       "      <td>None</td>\n",
       "      <td>65.0</td>\n",
       "      <td>5</td>\n",
       "      <td>[US]</td>\n",
       "      <td>en</td>\n",
       "      <td>Teen Titans</td>\n",
       "      <td>The Teen Titans are five heroes under one roof...</td>\n",
       "      <td>29.619</td>\n",
       "      <td>/tfdiVvJkYMbUOXDWibPjzu5dY6S.jpg</td>\n",
       "      <td>[{'id': 429, 'logo_path': '/2Tc1P3Ac8M479naPp1...</td>\n",
       "      <td>[{'air_date': '2005-01-11', 'episode_count': 2...</td>\n",
       "      <td>Ended</td>\n",
       "      <td>Scripted</td>\n",
       "      <td>7.4</td>\n",
       "      <td>136</td>\n",
       "    </tr>\n",
       "    <tr>\n",
       "      <th>4</th>\n",
       "      <td>/4PhaaA593zHfAyYUIXVWTih3qcD.jpg</td>\n",
       "      <td>[{'id': 69396, 'credit_id': '525389f019c295794...</td>\n",
       "      <td>[22]</td>\n",
       "      <td>1996-09-27</td>\n",
       "      <td>[{'id': 35, 'name': 'Comedy'}, {'id': 10751, '...</td>\n",
       "      <td></td>\n",
       "      <td>605</td>\n",
       "      <td>False</td>\n",
       "      <td>[en]</td>\n",
       "      <td>2003-04-24</td>\n",
       "      <td>{'air_date': '2003-04-24', 'episode_number': 2...</td>\n",
       "      <td>Sabrina, the Teenage Witch</td>\n",
       "      <td>[{'name': 'ABC', 'id': 2, 'logo_path': '/ndAvF...</td>\n",
       "      <td>None</td>\n",
       "      <td>163.0</td>\n",
       "      <td>7</td>\n",
       "      <td>[US]</td>\n",
       "      <td>en</td>\n",
       "      <td>Sabrina, the Teenage Witch</td>\n",
       "      <td>Sabrina, the Teenage Witch is an American sitc...</td>\n",
       "      <td>22.814</td>\n",
       "      <td>/8bwNu5JlRQyi6j6JO7UF42MAgX.jpg</td>\n",
       "      <td>[{'id': 5452, 'logo_path': None, 'name': 'Hart...</td>\n",
       "      <td>[{'air_date': '1998-10-04', 'episode_count': 3...</td>\n",
       "      <td>Ended</td>\n",
       "      <td>Scripted</td>\n",
       "      <td>6.4</td>\n",
       "      <td>119</td>\n",
       "    </tr>\n",
       "  </tbody>\n",
       "</table>\n",
       "</div>"
      ],
      "text/plain": [
       "                      backdrop_path  \\\n",
       "0                              None   \n",
       "1  /5ekOlsSAEHTEx4XS0cSzAQLzKcV.jpg   \n",
       "2  /khveUylm0fqlLGuUHLg74tKozdy.jpg   \n",
       "3  /hHwEptckXUwZM7XO2lxZ8w8upuU.jpg   \n",
       "4  /4PhaaA593zHfAyYUIXVWTih3qcD.jpg   \n",
       "\n",
       "                                          created_by episode_run_time  \\\n",
       "0  [{'id': 383, 'credit_id': '525389d019c29579402...             [30]   \n",
       "1  [{'id': 157395, 'credit_id': '525389dc19c29579...             [30]   \n",
       "2  [{'id': 163461, 'credit_id': '525389de19c29579...             [24]   \n",
       "3  [{'id': 141043, 'credit_id': '525389ed19c29579...             [23]   \n",
       "4  [{'id': 69396, 'credit_id': '525389f019c295794...             [22]   \n",
       "\n",
       "  first_air_date                                             genres  \\\n",
       "0     1969-01-12                                                 []   \n",
       "1     1966-09-06                     [{'id': 35, 'name': 'Comedy'}]   \n",
       "2     1997-09-25                     [{'id': 35, 'name': 'Comedy'}]   \n",
       "3     2003-07-20  [{'id': 16, 'name': 'Animation'}, {'id': 10759...   \n",
       "4     1996-09-27  [{'id': 35, 'name': 'Comedy'}, {'id': 10751, '...   \n",
       "\n",
       "                                            homepage   id  in_production  \\\n",
       "0                                                     601           True   \n",
       "1                                                     602          False   \n",
       "2                                                     603          False   \n",
       "3  http://cartoonnetwork.com/tv_shows/titans/inde...  604          False   \n",
       "4                                                     605          False   \n",
       "\n",
       "  languages last_air_date                                last_episode_to_air  \\\n",
       "0      [en]    1969-02-16  {'air_date': '1969-02-16', 'episode_number': 6...   \n",
       "1      [en]    1967-04-06  {'air_date': '1967-04-06', 'episode_number': 3...   \n",
       "2      [en]    2000-06-27  {'air_date': '2000-06-27', 'episode_number': 1...   \n",
       "3      [en]    2006-01-16  {'air_date': '2006-01-16', 'episode_number': 1...   \n",
       "4      [en]    2003-04-24  {'air_date': '2003-04-24', 'episode_number': 2...   \n",
       "\n",
       "                                        name  \\\n",
       "0  The Complete and Utter History of Britain   \n",
       "1                          Love on a Rooftop   \n",
       "2                          Veronica's Closet   \n",
       "3                                Teen Titans   \n",
       "4                 Sabrina, the Teenage Witch   \n",
       "\n",
       "                                            networks next_episode_to_air  \\\n",
       "0  [{'name': 'London Weekend Television', 'id': 1...                None   \n",
       "1  [{'name': 'ABC', 'id': 2, 'logo_path': '/ndAvF...                None   \n",
       "2  [{'name': 'NBC', 'id': 6, 'logo_path': '/o3Oed...                None   \n",
       "3  [{'name': 'Cartoon Network', 'id': 56, 'logo_p...                None   \n",
       "4  [{'name': 'ABC', 'id': 2, 'logo_path': '/ndAvF...                None   \n",
       "\n",
       "   number_of_episodes  number_of_seasons origin_country original_language  \\\n",
       "0                 6.0                  1           [GB]                en   \n",
       "1                32.0                  1           [US]                en   \n",
       "2                62.0                  3           [US]                en   \n",
       "3                65.0                  5           [US]                en   \n",
       "4               163.0                  7           [US]                en   \n",
       "\n",
       "                               original_name  \\\n",
       "0  The Complete and Utter History of Britain   \n",
       "1                          Love on a Rooftop   \n",
       "2                          Veronica's Closet   \n",
       "3                                Teen Titans   \n",
       "4                 Sabrina, the Teenage Witch   \n",
       "\n",
       "                                            overview  popularity  \\\n",
       "0  The Complete And Utter History Of Britain was ...       0.600   \n",
       "1  Love on a Rooftop was an American sitcom about...       1.313   \n",
       "2  Veronica 'Ronnie' Chase is the 'Queen of Roman...       2.223   \n",
       "3  The Teen Titans are five heroes under one roof...      29.619   \n",
       "4  Sabrina, the Teenage Witch is an American sitc...      22.814   \n",
       "\n",
       "                        poster_path  \\\n",
       "0                              None   \n",
       "1  /6sxAv9Mrw3e6WhQqd0lbRUmRZRg.jpg   \n",
       "2  /zDSdDiZgOMS7zAda01yzZJLUiAA.jpg   \n",
       "3  /tfdiVvJkYMbUOXDWibPjzu5dY6S.jpg   \n",
       "4   /8bwNu5JlRQyi6j6JO7UF42MAgX.jpg   \n",
       "\n",
       "                                production_companies  \\\n",
       "0                                                 []   \n",
       "1                                                 []   \n",
       "2  [{'id': 1957, 'logo_path': '/nmcNfPq03WLtOyufJ...   \n",
       "3  [{'id': 429, 'logo_path': '/2Tc1P3Ac8M479naPp1...   \n",
       "4  [{'id': 5452, 'logo_path': None, 'name': 'Hart...   \n",
       "\n",
       "                                             seasons status      type  \\\n",
       "0  [{'air_date': '1969-01-12', 'episode_count': 6...  Ended  Scripted   \n",
       "1  [{'air_date': '1966-09-06', 'episode_count': 3...  Ended  Scripted   \n",
       "2  [{'air_date': '1997-09-25', 'episode_count': 2...  Ended  Scripted   \n",
       "3  [{'air_date': '2005-01-11', 'episode_count': 2...  Ended  Scripted   \n",
       "4  [{'air_date': '1998-10-04', 'episode_count': 3...  Ended  Scripted   \n",
       "\n",
       "   vote_average  vote_count  \n",
       "0           0.0           0  \n",
       "1           0.0           0  \n",
       "2           4.0           6  \n",
       "3           7.4         136  \n",
       "4           6.4         119  "
      ]
     },
     "execution_count": 13,
     "metadata": {},
     "output_type": "execute_result"
    }
   ],
   "source": [
    "tv_info_df.head()"
   ]
  },
  {
   "cell_type": "code",
   "execution_count": 28,
   "metadata": {
    "ExecuteTime": {
     "end_time": "2019-07-11T23:04:49.662063Z",
     "start_time": "2019-07-11T23:04:49.559398Z"
    }
   },
   "outputs": [
    {
     "data": {
      "text/plain": [
       "(60613, 28)"
      ]
     },
     "execution_count": 28,
     "metadata": {},
     "output_type": "execute_result"
    }
   ],
   "source": [
    "# english shows only\n",
    "\n",
    "tv_info_df.original_language.value_counts()\n",
    "\n",
    "english_tv_info_df = tv_info_df[tv_info_df.original_language=='en']\n",
    "\n",
    "tv_info_df = None\n",
    "\n",
    "english_tv_info_df.shape"
   ]
  },
  {
   "cell_type": "code",
   "execution_count": 31,
   "metadata": {
    "ExecuteTime": {
     "end_time": "2019-07-11T23:09:28.185596Z",
     "start_time": "2019-07-11T23:09:28.175922Z"
    }
   },
   "outputs": [
    {
     "data": {
      "text/plain": [
       "backdrop_path                            /hHwEptckXUwZM7XO2lxZ8w8upuU.jpg\n",
       "created_by              [{'id': 141043, 'credit_id': '525389ed19c29579...\n",
       "episode_run_time                                                     [23]\n",
       "first_air_date                                                 2003-07-20\n",
       "genres                  [{'id': 16, 'name': 'Animation'}, {'id': 10759...\n",
       "homepage                http://cartoonnetwork.com/tv_shows/titans/inde...\n",
       "id                                                                    604\n",
       "in_production                                                       False\n",
       "languages                                                            [en]\n",
       "last_air_date                                                  2006-01-16\n",
       "last_episode_to_air     {'air_date': '2006-01-16', 'episode_number': 1...\n",
       "name                                                          Teen Titans\n",
       "networks                [{'name': 'Cartoon Network', 'id': 56, 'logo_p...\n",
       "next_episode_to_air                                                  None\n",
       "number_of_episodes                                                     65\n",
       "number_of_seasons                                                       5\n",
       "origin_country                                                       [US]\n",
       "original_language                                                      en\n",
       "original_name                                                 Teen Titans\n",
       "overview                The Teen Titans are five heroes under one roof...\n",
       "popularity                                                         29.619\n",
       "poster_path                              /tfdiVvJkYMbUOXDWibPjzu5dY6S.jpg\n",
       "production_companies    [{'id': 429, 'logo_path': '/2Tc1P3Ac8M479naPp1...\n",
       "seasons                 [{'air_date': '2005-01-11', 'episode_count': 2...\n",
       "status                                                              Ended\n",
       "type                                                             Scripted\n",
       "vote_average                                                          7.4\n",
       "vote_count                                                            136\n",
       "Name: 3, dtype: object"
      ]
     },
     "execution_count": 31,
     "metadata": {},
     "output_type": "execute_result"
    }
   ],
   "source": [
    "english_tv_info_df.iloc[3, :]"
   ]
  },
  {
   "cell_type": "code",
   "execution_count": 39,
   "metadata": {
    "ExecuteTime": {
     "end_time": "2019-07-11T23:14:21.195168Z",
     "start_time": "2019-07-11T23:14:21.191993Z"
    }
   },
   "outputs": [],
   "source": [
    "test_season = tmdb.TV_Seasons(604, 0)"
   ]
  },
  {
   "cell_type": "code",
   "execution_count": 40,
   "metadata": {
    "ExecuteTime": {
     "end_time": "2019-07-11T23:14:38.649261Z",
     "start_time": "2019-07-11T23:14:38.498538Z"
    }
   },
   "outputs": [],
   "source": [
    "test_season_info = test_season.info()\n"
   ]
  },
  {
   "cell_type": "code",
   "execution_count": 41,
   "metadata": {
    "ExecuteTime": {
     "end_time": "2019-07-11T23:14:55.731994Z",
     "start_time": "2019-07-11T23:14:55.727977Z"
    }
   },
   "outputs": [
    {
     "data": {
      "text/plain": [
       "[{'air_date': '2005-01-11',\n",
       "  'episode_number': 1,\n",
       "  'id': 34430,\n",
       "  'name': 'The Lost Episode',\n",
       "  'overview': 'The Titans face a villain called Punk Rocket, who wields a mean guitar that emits crushing sonic waves.',\n",
       "  'production_code': None,\n",
       "  'season_number': 0,\n",
       "  'show_id': 604,\n",
       "  'still_path': None,\n",
       "  'vote_average': 8.0,\n",
       "  'vote_count': 1,\n",
       "  'crew': [{'id': 127382,\n",
       "    'credit_id': '525389e319c295794023a91c',\n",
       "    'name': 'Matt Youngberg',\n",
       "    'department': 'Directing',\n",
       "    'job': 'Director',\n",
       "    'gender': 2,\n",
       "    'profile_path': None}],\n",
       "  'guest_stars': []},\n",
       " {'air_date': '2006-09-15',\n",
       "  'episode_number': 2,\n",
       "  'id': 34429,\n",
       "  'name': 'Trouble in Tokyo',\n",
       "  'overview': 'When a Japanese villain attacks Titans Tower, Robin, Starfire, Cyborg, Raven, and Beast Boy spring into action. When Robin finds out that Saico-Tek was sent by a mysterious and menacing Japanese criminal known as Brushogun, and the Teen Titans travel to Tokyo to track the villain down.',\n",
       "  'production_code': None,\n",
       "  'season_number': 0,\n",
       "  'show_id': 604,\n",
       "  'still_path': None,\n",
       "  'vote_average': 8.0,\n",
       "  'vote_count': 1,\n",
       "  'crew': [],\n",
       "  'guest_stars': []}]"
      ]
     },
     "execution_count": 41,
     "metadata": {},
     "output_type": "execute_result"
    }
   ],
   "source": [
    "test_season_info['episodes']"
   ]
  },
  {
   "cell_type": "code",
   "execution_count": null,
   "metadata": {},
   "outputs": [],
   "source": []
  }
 ],
 "metadata": {
  "kernelspec": {
   "display_name": "Python 3",
   "language": "python",
   "name": "python3"
  },
  "language_info": {
   "codemirror_mode": {
    "name": "ipython",
    "version": 3
   },
   "file_extension": ".py",
   "mimetype": "text/x-python",
   "name": "python",
   "nbconvert_exporter": "python",
   "pygments_lexer": "ipython3",
   "version": "3.6.6"
  },
  "toc": {
   "base_numbering": 1,
   "nav_menu": {},
   "number_sections": true,
   "sideBar": true,
   "skip_h1_title": false,
   "title_cell": "Table of Contents",
   "title_sidebar": "Contents",
   "toc_cell": false,
   "toc_position": {},
   "toc_section_display": true,
   "toc_window_display": false
  },
  "varInspector": {
   "cols": {
    "lenName": 16,
    "lenType": 16,
    "lenVar": 40
   },
   "kernels_config": {
    "python": {
     "delete_cmd_postfix": "",
     "delete_cmd_prefix": "del ",
     "library": "var_list.py",
     "varRefreshCmd": "print(var_dic_list())"
    },
    "r": {
     "delete_cmd_postfix": ") ",
     "delete_cmd_prefix": "rm(",
     "library": "var_list.r",
     "varRefreshCmd": "cat(var_dic_list()) "
    }
   },
   "position": {
    "height": "595px",
    "left": "686px",
    "right": "20px",
    "top": "80px",
    "width": "643px"
   },
   "types_to_exclude": [
    "module",
    "function",
    "builtin_function_or_method",
    "instance",
    "_Feature"
   ],
   "window_display": false
  }
 },
 "nbformat": 4,
 "nbformat_minor": 2
}
