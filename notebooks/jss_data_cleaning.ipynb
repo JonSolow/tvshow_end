{
 "cells": [
  {
   "cell_type": "code",
   "execution_count": 27,
   "metadata": {
    "ExecuteTime": {
     "end_time": "2019-07-17T03:09:09.255675Z",
     "start_time": "2019-07-17T03:09:08.294526Z"
    }
   },
   "outputs": [],
   "source": [
    "# Import tmdb api wrapper library\n",
    "import tmdbsimple as tmdb\n",
    "\n",
    "# Import JSON\n",
    "import json\n",
    "\n",
    "# import time for sleeping and scraping\n",
    "import time\n",
    "\n",
    "# Import the usual suspects\n",
    "import pandas as pd\n",
    "import numpy as np\n",
    "import os\n",
    "import matplotlib.pyplot as plt\n",
    "%matplotlib inline\n",
    "\n",
    "pd.set_option('display.max_columns', 500)\n",
    "\n",
    "# pickle for saving and loading scraped info\n",
    "import pickle\n",
    "\n",
    "\n",
    "from timeit import default_timer as timer\n",
    "\n",
    "\n",
    "# Pandas profiling - great library for analyzing dataframes\n",
    "import pandas_profiling as pp\n",
    "\n",
    "\n",
    "\n",
    "from sklearn.preprocessing import MultiLabelBinarizer\n",
    "\n"
   ]
  },
  {
   "cell_type": "code",
   "execution_count": 4,
   "metadata": {
    "ExecuteTime": {
     "end_time": "2019-07-17T03:03:08.146634Z",
     "start_time": "2019-07-17T03:03:03.388153Z"
    }
   },
   "outputs": [],
   "source": [
    "with open('../data/processed/all_episodes.pkl', 'rb') as f:\n",
    "    import_df = pickle.load(f)"
   ]
  },
  {
   "cell_type": "code",
   "execution_count": 5,
   "metadata": {
    "ExecuteTime": {
     "end_time": "2019-07-17T03:03:08.849015Z",
     "start_time": "2019-07-17T03:03:08.835857Z"
    }
   },
   "outputs": [
    {
     "data": {
      "text/plain": [
       "(1089243, 29)"
      ]
     },
     "execution_count": 5,
     "metadata": {},
     "output_type": "execute_result"
    }
   ],
   "source": [
    "import_df.shape"
   ]
  },
  {
   "cell_type": "code",
   "execution_count": 6,
   "metadata": {
    "ExecuteTime": {
     "end_time": "2019-07-17T03:03:09.760369Z",
     "start_time": "2019-07-17T03:03:09.712349Z"
    }
   },
   "outputs": [
    {
     "data": {
      "text/html": [
       "<div>\n",
       "<style scoped>\n",
       "    .dataframe tbody tr th:only-of-type {\n",
       "        vertical-align: middle;\n",
       "    }\n",
       "\n",
       "    .dataframe tbody tr th {\n",
       "        vertical-align: top;\n",
       "    }\n",
       "\n",
       "    .dataframe thead th {\n",
       "        text-align: right;\n",
       "    }\n",
       "</style>\n",
       "<table border=\"1\" class=\"dataframe\">\n",
       "  <thead>\n",
       "    <tr style=\"text-align: right;\">\n",
       "      <th></th>\n",
       "      <th>created_by</th>\n",
       "      <th>episode_run_time</th>\n",
       "      <th>first_air_date</th>\n",
       "      <th>genres</th>\n",
       "      <th>id_show</th>\n",
       "      <th>in_production</th>\n",
       "      <th>last_air_date</th>\n",
       "      <th>name_show</th>\n",
       "      <th>networks</th>\n",
       "      <th>number_of_episodes</th>\n",
       "      <th>number_of_seasons</th>\n",
       "      <th>origin_country</th>\n",
       "      <th>original_language</th>\n",
       "      <th>original_name</th>\n",
       "      <th>popularity</th>\n",
       "      <th>production_companies</th>\n",
       "      <th>status</th>\n",
       "      <th>type</th>\n",
       "      <th>vote_average_show</th>\n",
       "      <th>vote_count_show</th>\n",
       "      <th>air_date</th>\n",
       "      <th>crew</th>\n",
       "      <th>episode_number</th>\n",
       "      <th>guest_stars</th>\n",
       "      <th>id_ep</th>\n",
       "      <th>name_ep</th>\n",
       "      <th>season_number</th>\n",
       "      <th>vote_average_ep</th>\n",
       "      <th>vote_count_ep</th>\n",
       "    </tr>\n",
       "  </thead>\n",
       "  <tbody>\n",
       "    <tr>\n",
       "      <th>0</th>\n",
       "      <td>[{'id': 383, 'credit_id': '525389d019c29579402...</td>\n",
       "      <td>[30]</td>\n",
       "      <td>1969-01-12</td>\n",
       "      <td>[]</td>\n",
       "      <td>601</td>\n",
       "      <td>True</td>\n",
       "      <td>1969-02-16</td>\n",
       "      <td>The Complete and Utter History of Britain</td>\n",
       "      <td>[{'name': 'London Weekend Television', 'id': 1...</td>\n",
       "      <td>6.0</td>\n",
       "      <td>1</td>\n",
       "      <td>[GB]</td>\n",
       "      <td>en</td>\n",
       "      <td>The Complete and Utter History of Britain</td>\n",
       "      <td>0.6</td>\n",
       "      <td>[]</td>\n",
       "      <td>Ended</td>\n",
       "      <td>Scripted</td>\n",
       "      <td>0.0</td>\n",
       "      <td>0</td>\n",
       "      <td>1969-01-12</td>\n",
       "      <td>[{'id': 10707, 'credit_id': '525389cd19c295794...</td>\n",
       "      <td>1.0</td>\n",
       "      <td>[]</td>\n",
       "      <td>34326.0</td>\n",
       "      <td>From the Dawn of History to the Normal Conquest</td>\n",
       "      <td>1.0</td>\n",
       "      <td>0.0</td>\n",
       "      <td>0.0</td>\n",
       "    </tr>\n",
       "    <tr>\n",
       "      <th>1</th>\n",
       "      <td>[{'id': 383, 'credit_id': '525389d019c29579402...</td>\n",
       "      <td>[30]</td>\n",
       "      <td>1969-01-12</td>\n",
       "      <td>[]</td>\n",
       "      <td>601</td>\n",
       "      <td>True</td>\n",
       "      <td>1969-02-16</td>\n",
       "      <td>The Complete and Utter History of Britain</td>\n",
       "      <td>[{'name': 'London Weekend Television', 'id': 1...</td>\n",
       "      <td>6.0</td>\n",
       "      <td>1</td>\n",
       "      <td>[GB]</td>\n",
       "      <td>en</td>\n",
       "      <td>The Complete and Utter History of Britain</td>\n",
       "      <td>0.6</td>\n",
       "      <td>[]</td>\n",
       "      <td>Ended</td>\n",
       "      <td>Scripted</td>\n",
       "      <td>0.0</td>\n",
       "      <td>0</td>\n",
       "      <td>1969-01-19</td>\n",
       "      <td>[{'id': 10707, 'credit_id': '525389cd19c295794...</td>\n",
       "      <td>2.0</td>\n",
       "      <td>[]</td>\n",
       "      <td>34328.0</td>\n",
       "      <td>Richard the Lionheart to Robin the Hood</td>\n",
       "      <td>1.0</td>\n",
       "      <td>0.0</td>\n",
       "      <td>0.0</td>\n",
       "    </tr>\n",
       "    <tr>\n",
       "      <th>2</th>\n",
       "      <td>[{'id': 383, 'credit_id': '525389d019c29579402...</td>\n",
       "      <td>[30]</td>\n",
       "      <td>1969-01-12</td>\n",
       "      <td>[]</td>\n",
       "      <td>601</td>\n",
       "      <td>True</td>\n",
       "      <td>1969-02-16</td>\n",
       "      <td>The Complete and Utter History of Britain</td>\n",
       "      <td>[{'name': 'London Weekend Television', 'id': 1...</td>\n",
       "      <td>6.0</td>\n",
       "      <td>1</td>\n",
       "      <td>[GB]</td>\n",
       "      <td>en</td>\n",
       "      <td>The Complete and Utter History of Britain</td>\n",
       "      <td>0.6</td>\n",
       "      <td>[]</td>\n",
       "      <td>Ended</td>\n",
       "      <td>Scripted</td>\n",
       "      <td>0.0</td>\n",
       "      <td>0</td>\n",
       "      <td>1969-01-26</td>\n",
       "      <td>[{'id': 10707, 'credit_id': '525389cd19c295794...</td>\n",
       "      <td>3.0</td>\n",
       "      <td>[]</td>\n",
       "      <td>34327.0</td>\n",
       "      <td>Edward the First to Richard the Last</td>\n",
       "      <td>1.0</td>\n",
       "      <td>0.0</td>\n",
       "      <td>0.0</td>\n",
       "    </tr>\n",
       "    <tr>\n",
       "      <th>3</th>\n",
       "      <td>[{'id': 383, 'credit_id': '525389d019c29579402...</td>\n",
       "      <td>[30]</td>\n",
       "      <td>1969-01-12</td>\n",
       "      <td>[]</td>\n",
       "      <td>601</td>\n",
       "      <td>True</td>\n",
       "      <td>1969-02-16</td>\n",
       "      <td>The Complete and Utter History of Britain</td>\n",
       "      <td>[{'name': 'London Weekend Television', 'id': 1...</td>\n",
       "      <td>6.0</td>\n",
       "      <td>1</td>\n",
       "      <td>[GB]</td>\n",
       "      <td>en</td>\n",
       "      <td>The Complete and Utter History of Britain</td>\n",
       "      <td>0.6</td>\n",
       "      <td>[]</td>\n",
       "      <td>Ended</td>\n",
       "      <td>Scripted</td>\n",
       "      <td>0.0</td>\n",
       "      <td>0</td>\n",
       "      <td>1969-02-02</td>\n",
       "      <td>[{'id': 10707, 'credit_id': '525389cd19c295794...</td>\n",
       "      <td>4.0</td>\n",
       "      <td>[]</td>\n",
       "      <td>34331.0</td>\n",
       "      <td>Perkin Warbeck to Bloody Mary</td>\n",
       "      <td>1.0</td>\n",
       "      <td>0.0</td>\n",
       "      <td>0.0</td>\n",
       "    </tr>\n",
       "    <tr>\n",
       "      <th>4</th>\n",
       "      <td>[{'id': 383, 'credit_id': '525389d019c29579402...</td>\n",
       "      <td>[30]</td>\n",
       "      <td>1969-01-12</td>\n",
       "      <td>[]</td>\n",
       "      <td>601</td>\n",
       "      <td>True</td>\n",
       "      <td>1969-02-16</td>\n",
       "      <td>The Complete and Utter History of Britain</td>\n",
       "      <td>[{'name': 'London Weekend Television', 'id': 1...</td>\n",
       "      <td>6.0</td>\n",
       "      <td>1</td>\n",
       "      <td>[GB]</td>\n",
       "      <td>en</td>\n",
       "      <td>The Complete and Utter History of Britain</td>\n",
       "      <td>0.6</td>\n",
       "      <td>[]</td>\n",
       "      <td>Ended</td>\n",
       "      <td>Scripted</td>\n",
       "      <td>0.0</td>\n",
       "      <td>0</td>\n",
       "      <td>1969-02-09</td>\n",
       "      <td>[{'id': 10707, 'credit_id': '525389cd19c295794...</td>\n",
       "      <td>5.0</td>\n",
       "      <td>[]</td>\n",
       "      <td>34330.0</td>\n",
       "      <td>The Great and Glorious Age of Elizabeth</td>\n",
       "      <td>1.0</td>\n",
       "      <td>0.0</td>\n",
       "      <td>0.0</td>\n",
       "    </tr>\n",
       "  </tbody>\n",
       "</table>\n",
       "</div>"
      ],
      "text/plain": [
       "                                          created_by episode_run_time  \\\n",
       "0  [{'id': 383, 'credit_id': '525389d019c29579402...             [30]   \n",
       "1  [{'id': 383, 'credit_id': '525389d019c29579402...             [30]   \n",
       "2  [{'id': 383, 'credit_id': '525389d019c29579402...             [30]   \n",
       "3  [{'id': 383, 'credit_id': '525389d019c29579402...             [30]   \n",
       "4  [{'id': 383, 'credit_id': '525389d019c29579402...             [30]   \n",
       "\n",
       "  first_air_date genres  id_show  in_production last_air_date  \\\n",
       "0     1969-01-12     []      601           True    1969-02-16   \n",
       "1     1969-01-12     []      601           True    1969-02-16   \n",
       "2     1969-01-12     []      601           True    1969-02-16   \n",
       "3     1969-01-12     []      601           True    1969-02-16   \n",
       "4     1969-01-12     []      601           True    1969-02-16   \n",
       "\n",
       "                                   name_show  \\\n",
       "0  The Complete and Utter History of Britain   \n",
       "1  The Complete and Utter History of Britain   \n",
       "2  The Complete and Utter History of Britain   \n",
       "3  The Complete and Utter History of Britain   \n",
       "4  The Complete and Utter History of Britain   \n",
       "\n",
       "                                            networks  number_of_episodes  \\\n",
       "0  [{'name': 'London Weekend Television', 'id': 1...                 6.0   \n",
       "1  [{'name': 'London Weekend Television', 'id': 1...                 6.0   \n",
       "2  [{'name': 'London Weekend Television', 'id': 1...                 6.0   \n",
       "3  [{'name': 'London Weekend Television', 'id': 1...                 6.0   \n",
       "4  [{'name': 'London Weekend Television', 'id': 1...                 6.0   \n",
       "\n",
       "   number_of_seasons origin_country original_language  \\\n",
       "0                  1           [GB]                en   \n",
       "1                  1           [GB]                en   \n",
       "2                  1           [GB]                en   \n",
       "3                  1           [GB]                en   \n",
       "4                  1           [GB]                en   \n",
       "\n",
       "                               original_name  popularity production_companies  \\\n",
       "0  The Complete and Utter History of Britain         0.6                   []   \n",
       "1  The Complete and Utter History of Britain         0.6                   []   \n",
       "2  The Complete and Utter History of Britain         0.6                   []   \n",
       "3  The Complete and Utter History of Britain         0.6                   []   \n",
       "4  The Complete and Utter History of Britain         0.6                   []   \n",
       "\n",
       "  status      type  vote_average_show  vote_count_show    air_date  \\\n",
       "0  Ended  Scripted                0.0                0  1969-01-12   \n",
       "1  Ended  Scripted                0.0                0  1969-01-19   \n",
       "2  Ended  Scripted                0.0                0  1969-01-26   \n",
       "3  Ended  Scripted                0.0                0  1969-02-02   \n",
       "4  Ended  Scripted                0.0                0  1969-02-09   \n",
       "\n",
       "                                                crew  episode_number  \\\n",
       "0  [{'id': 10707, 'credit_id': '525389cd19c295794...             1.0   \n",
       "1  [{'id': 10707, 'credit_id': '525389cd19c295794...             2.0   \n",
       "2  [{'id': 10707, 'credit_id': '525389cd19c295794...             3.0   \n",
       "3  [{'id': 10707, 'credit_id': '525389cd19c295794...             4.0   \n",
       "4  [{'id': 10707, 'credit_id': '525389cd19c295794...             5.0   \n",
       "\n",
       "  guest_stars    id_ep                                          name_ep  \\\n",
       "0          []  34326.0  From the Dawn of History to the Normal Conquest   \n",
       "1          []  34328.0          Richard the Lionheart to Robin the Hood   \n",
       "2          []  34327.0             Edward the First to Richard the Last   \n",
       "3          []  34331.0                    Perkin Warbeck to Bloody Mary   \n",
       "4          []  34330.0          The Great and Glorious Age of Elizabeth   \n",
       "\n",
       "   season_number  vote_average_ep  vote_count_ep  \n",
       "0            1.0              0.0            0.0  \n",
       "1            1.0              0.0            0.0  \n",
       "2            1.0              0.0            0.0  \n",
       "3            1.0              0.0            0.0  \n",
       "4            1.0              0.0            0.0  "
      ]
     },
     "execution_count": 6,
     "metadata": {},
     "output_type": "execute_result"
    }
   ],
   "source": [
    "import_df.head()"
   ]
  },
  {
   "cell_type": "code",
   "execution_count": 7,
   "metadata": {
    "ExecuteTime": {
     "end_time": "2019-07-17T03:03:10.343737Z",
     "start_time": "2019-07-17T03:03:10.334793Z"
    }
   },
   "outputs": [],
   "source": [
    "def extract_id(x):\n",
    "    if type(x)==list:\n",
    "        return [y['id'] for y in x]\n",
    "    else:\n",
    "        return []"
   ]
  },
  {
   "cell_type": "code",
   "execution_count": 8,
   "metadata": {
    "ExecuteTime": {
     "end_time": "2019-07-17T03:03:14.761148Z",
     "start_time": "2019-07-17T03:03:11.125497Z"
    }
   },
   "outputs": [],
   "source": [
    "import_df['crew_id'] = import_df.crew.apply(extract_id)\n",
    "import_df['created_by_id'] = import_df.created_by.apply(extract_id)\n",
    "import_df['networks_id'] = import_df.networks.apply(extract_id)\n",
    "import_df['genres_id'] = import_df.genres.apply(extract_id)\n"
   ]
  },
  {
   "cell_type": "code",
   "execution_count": 9,
   "metadata": {
    "ExecuteTime": {
     "end_time": "2019-07-17T03:03:16.759850Z",
     "start_time": "2019-07-17T03:03:15.260889Z"
    }
   },
   "outputs": [
    {
     "data": {
      "text/plain": [
       "Series([], Name: networks, dtype: int64)"
      ]
     },
     "execution_count": 9,
     "metadata": {},
     "output_type": "execute_result"
    }
   ],
   "source": [
    "import_df[~import_df.networks.apply(type).eq(list)].networks.value_counts()"
   ]
  },
  {
   "cell_type": "code",
   "execution_count": 10,
   "metadata": {
    "ExecuteTime": {
     "end_time": "2019-07-17T03:03:17.293952Z",
     "start_time": "2019-07-17T03:03:17.285569Z"
    }
   },
   "outputs": [
    {
     "data": {
      "text/plain": [
       "created_by               object\n",
       "episode_run_time         object\n",
       "first_air_date           object\n",
       "genres                   object\n",
       "id_show                   int64\n",
       "in_production              bool\n",
       "last_air_date            object\n",
       "name_show                object\n",
       "networks                 object\n",
       "number_of_episodes      float64\n",
       "number_of_seasons         int64\n",
       "origin_country           object\n",
       "original_language        object\n",
       "original_name            object\n",
       "popularity              float64\n",
       "production_companies     object\n",
       "status                   object\n",
       "type                     object\n",
       "vote_average_show       float64\n",
       "vote_count_show           int64\n",
       "air_date                 object\n",
       "crew                     object\n",
       "episode_number          float64\n",
       "guest_stars              object\n",
       "id_ep                   float64\n",
       "name_ep                  object\n",
       "season_number           float64\n",
       "vote_average_ep         float64\n",
       "vote_count_ep           float64\n",
       "crew_id                  object\n",
       "created_by_id            object\n",
       "networks_id              object\n",
       "genres_id                object\n",
       "dtype: object"
      ]
     },
     "execution_count": 10,
     "metadata": {},
     "output_type": "execute_result"
    }
   ],
   "source": [
    "import_df.dtypes"
   ]
  },
  {
   "cell_type": "code",
   "execution_count": 11,
   "metadata": {
    "ExecuteTime": {
     "end_time": "2019-07-17T03:03:19.039770Z",
     "start_time": "2019-07-17T03:03:17.773319Z"
    }
   },
   "outputs": [
    {
     "data": {
      "text/plain": [
       "created_by              0.000000\n",
       "episode_run_time        0.000000\n",
       "first_air_date          0.060515\n",
       "genres                  0.000000\n",
       "id_show                 0.000000\n",
       "in_production           0.000000\n",
       "last_air_date           0.053057\n",
       "name_show               0.000000\n",
       "networks                0.000000\n",
       "number_of_episodes      0.000497\n",
       "number_of_seasons       0.000000\n",
       "origin_country          0.000000\n",
       "original_language       0.000000\n",
       "original_name           0.000000\n",
       "popularity              0.000000\n",
       "production_companies    0.000000\n",
       "status                  0.000000\n",
       "type                    0.000000\n",
       "vote_average_show       0.000000\n",
       "vote_count_show         0.000000\n",
       "air_date                0.115473\n",
       "crew                    0.026396\n",
       "episode_number          0.026396\n",
       "guest_stars             0.026396\n",
       "id_ep                   0.026396\n",
       "name_ep                 0.026396\n",
       "season_number           0.026444\n",
       "vote_average_ep         0.026396\n",
       "vote_count_ep           0.026396\n",
       "crew_id                 0.000000\n",
       "created_by_id           0.000000\n",
       "networks_id             0.000000\n",
       "genres_id               0.000000\n",
       "dtype: float64"
      ]
     },
     "execution_count": 11,
     "metadata": {},
     "output_type": "execute_result"
    }
   ],
   "source": [
    "import_df.isna().sum() / len(import_df)"
   ]
  },
  {
   "cell_type": "code",
   "execution_count": 12,
   "metadata": {
    "ExecuteTime": {
     "end_time": "2019-07-17T03:03:19.563231Z",
     "start_time": "2019-07-17T03:03:19.521860Z"
    }
   },
   "outputs": [
    {
     "data": {
      "text/plain": [
       "0.0469335125403606"
      ]
     },
     "execution_count": 12,
     "metadata": {},
     "output_type": "execute_result"
    }
   ],
   "source": [
    "len(import_df[import_df.vote_count_ep>0]) / len(import_df)"
   ]
  },
  {
   "cell_type": "code",
   "execution_count": 13,
   "metadata": {
    "ExecuteTime": {
     "end_time": "2019-07-17T03:03:20.133413Z",
     "start_time": "2019-07-17T03:03:20.096390Z"
    }
   },
   "outputs": [
    {
     "data": {
      "text/html": [
       "<div>\n",
       "<style scoped>\n",
       "    .dataframe tbody tr th:only-of-type {\n",
       "        vertical-align: middle;\n",
       "    }\n",
       "\n",
       "    .dataframe tbody tr th {\n",
       "        vertical-align: top;\n",
       "    }\n",
       "\n",
       "    .dataframe thead th {\n",
       "        text-align: right;\n",
       "    }\n",
       "</style>\n",
       "<table border=\"1\" class=\"dataframe\">\n",
       "  <thead>\n",
       "    <tr style=\"text-align: right;\">\n",
       "      <th></th>\n",
       "      <th>created_by</th>\n",
       "      <th>episode_run_time</th>\n",
       "      <th>first_air_date</th>\n",
       "      <th>genres</th>\n",
       "      <th>id_show</th>\n",
       "      <th>in_production</th>\n",
       "      <th>last_air_date</th>\n",
       "      <th>name_show</th>\n",
       "      <th>networks</th>\n",
       "      <th>number_of_episodes</th>\n",
       "      <th>number_of_seasons</th>\n",
       "      <th>origin_country</th>\n",
       "      <th>original_language</th>\n",
       "      <th>original_name</th>\n",
       "      <th>popularity</th>\n",
       "      <th>production_companies</th>\n",
       "      <th>status</th>\n",
       "      <th>type</th>\n",
       "      <th>vote_average_show</th>\n",
       "      <th>vote_count_show</th>\n",
       "      <th>air_date</th>\n",
       "      <th>crew</th>\n",
       "      <th>episode_number</th>\n",
       "      <th>guest_stars</th>\n",
       "      <th>id_ep</th>\n",
       "      <th>name_ep</th>\n",
       "      <th>season_number</th>\n",
       "      <th>vote_average_ep</th>\n",
       "      <th>vote_count_ep</th>\n",
       "      <th>crew_id</th>\n",
       "      <th>created_by_id</th>\n",
       "      <th>networks_id</th>\n",
       "      <th>genres_id</th>\n",
       "    </tr>\n",
       "  </thead>\n",
       "  <tbody>\n",
       "    <tr>\n",
       "      <th>0</th>\n",
       "      <td>[{'id': 383, 'credit_id': '525389d019c29579402...</td>\n",
       "      <td>[30]</td>\n",
       "      <td>1969-01-12</td>\n",
       "      <td>[]</td>\n",
       "      <td>601</td>\n",
       "      <td>True</td>\n",
       "      <td>1969-02-16</td>\n",
       "      <td>The Complete and Utter History of Britain</td>\n",
       "      <td>[{'name': 'London Weekend Television', 'id': 1...</td>\n",
       "      <td>6.0</td>\n",
       "      <td>1</td>\n",
       "      <td>[GB]</td>\n",
       "      <td>en</td>\n",
       "      <td>The Complete and Utter History of Britain</td>\n",
       "      <td>0.6</td>\n",
       "      <td>[]</td>\n",
       "      <td>Ended</td>\n",
       "      <td>Scripted</td>\n",
       "      <td>0.0</td>\n",
       "      <td>0</td>\n",
       "      <td>1969-01-12</td>\n",
       "      <td>[{'id': 10707, 'credit_id': '525389cd19c295794...</td>\n",
       "      <td>1.0</td>\n",
       "      <td>[]</td>\n",
       "      <td>34326.0</td>\n",
       "      <td>From the Dawn of History to the Normal Conquest</td>\n",
       "      <td>1.0</td>\n",
       "      <td>0.0</td>\n",
       "      <td>0.0</td>\n",
       "      <td>[10707, 383]</td>\n",
       "      <td>[383, 10707]</td>\n",
       "      <td>[127]</td>\n",
       "      <td>[]</td>\n",
       "    </tr>\n",
       "    <tr>\n",
       "      <th>1</th>\n",
       "      <td>[{'id': 383, 'credit_id': '525389d019c29579402...</td>\n",
       "      <td>[30]</td>\n",
       "      <td>1969-01-12</td>\n",
       "      <td>[]</td>\n",
       "      <td>601</td>\n",
       "      <td>True</td>\n",
       "      <td>1969-02-16</td>\n",
       "      <td>The Complete and Utter History of Britain</td>\n",
       "      <td>[{'name': 'London Weekend Television', 'id': 1...</td>\n",
       "      <td>6.0</td>\n",
       "      <td>1</td>\n",
       "      <td>[GB]</td>\n",
       "      <td>en</td>\n",
       "      <td>The Complete and Utter History of Britain</td>\n",
       "      <td>0.6</td>\n",
       "      <td>[]</td>\n",
       "      <td>Ended</td>\n",
       "      <td>Scripted</td>\n",
       "      <td>0.0</td>\n",
       "      <td>0</td>\n",
       "      <td>1969-01-19</td>\n",
       "      <td>[{'id': 10707, 'credit_id': '525389cd19c295794...</td>\n",
       "      <td>2.0</td>\n",
       "      <td>[]</td>\n",
       "      <td>34328.0</td>\n",
       "      <td>Richard the Lionheart to Robin the Hood</td>\n",
       "      <td>1.0</td>\n",
       "      <td>0.0</td>\n",
       "      <td>0.0</td>\n",
       "      <td>[10707, 383]</td>\n",
       "      <td>[383, 10707]</td>\n",
       "      <td>[127]</td>\n",
       "      <td>[]</td>\n",
       "    </tr>\n",
       "    <tr>\n",
       "      <th>2</th>\n",
       "      <td>[{'id': 383, 'credit_id': '525389d019c29579402...</td>\n",
       "      <td>[30]</td>\n",
       "      <td>1969-01-12</td>\n",
       "      <td>[]</td>\n",
       "      <td>601</td>\n",
       "      <td>True</td>\n",
       "      <td>1969-02-16</td>\n",
       "      <td>The Complete and Utter History of Britain</td>\n",
       "      <td>[{'name': 'London Weekend Television', 'id': 1...</td>\n",
       "      <td>6.0</td>\n",
       "      <td>1</td>\n",
       "      <td>[GB]</td>\n",
       "      <td>en</td>\n",
       "      <td>The Complete and Utter History of Britain</td>\n",
       "      <td>0.6</td>\n",
       "      <td>[]</td>\n",
       "      <td>Ended</td>\n",
       "      <td>Scripted</td>\n",
       "      <td>0.0</td>\n",
       "      <td>0</td>\n",
       "      <td>1969-01-26</td>\n",
       "      <td>[{'id': 10707, 'credit_id': '525389cd19c295794...</td>\n",
       "      <td>3.0</td>\n",
       "      <td>[]</td>\n",
       "      <td>34327.0</td>\n",
       "      <td>Edward the First to Richard the Last</td>\n",
       "      <td>1.0</td>\n",
       "      <td>0.0</td>\n",
       "      <td>0.0</td>\n",
       "      <td>[10707, 383]</td>\n",
       "      <td>[383, 10707]</td>\n",
       "      <td>[127]</td>\n",
       "      <td>[]</td>\n",
       "    </tr>\n",
       "    <tr>\n",
       "      <th>3</th>\n",
       "      <td>[{'id': 383, 'credit_id': '525389d019c29579402...</td>\n",
       "      <td>[30]</td>\n",
       "      <td>1969-01-12</td>\n",
       "      <td>[]</td>\n",
       "      <td>601</td>\n",
       "      <td>True</td>\n",
       "      <td>1969-02-16</td>\n",
       "      <td>The Complete and Utter History of Britain</td>\n",
       "      <td>[{'name': 'London Weekend Television', 'id': 1...</td>\n",
       "      <td>6.0</td>\n",
       "      <td>1</td>\n",
       "      <td>[GB]</td>\n",
       "      <td>en</td>\n",
       "      <td>The Complete and Utter History of Britain</td>\n",
       "      <td>0.6</td>\n",
       "      <td>[]</td>\n",
       "      <td>Ended</td>\n",
       "      <td>Scripted</td>\n",
       "      <td>0.0</td>\n",
       "      <td>0</td>\n",
       "      <td>1969-02-02</td>\n",
       "      <td>[{'id': 10707, 'credit_id': '525389cd19c295794...</td>\n",
       "      <td>4.0</td>\n",
       "      <td>[]</td>\n",
       "      <td>34331.0</td>\n",
       "      <td>Perkin Warbeck to Bloody Mary</td>\n",
       "      <td>1.0</td>\n",
       "      <td>0.0</td>\n",
       "      <td>0.0</td>\n",
       "      <td>[10707, 383]</td>\n",
       "      <td>[383, 10707]</td>\n",
       "      <td>[127]</td>\n",
       "      <td>[]</td>\n",
       "    </tr>\n",
       "    <tr>\n",
       "      <th>4</th>\n",
       "      <td>[{'id': 383, 'credit_id': '525389d019c29579402...</td>\n",
       "      <td>[30]</td>\n",
       "      <td>1969-01-12</td>\n",
       "      <td>[]</td>\n",
       "      <td>601</td>\n",
       "      <td>True</td>\n",
       "      <td>1969-02-16</td>\n",
       "      <td>The Complete and Utter History of Britain</td>\n",
       "      <td>[{'name': 'London Weekend Television', 'id': 1...</td>\n",
       "      <td>6.0</td>\n",
       "      <td>1</td>\n",
       "      <td>[GB]</td>\n",
       "      <td>en</td>\n",
       "      <td>The Complete and Utter History of Britain</td>\n",
       "      <td>0.6</td>\n",
       "      <td>[]</td>\n",
       "      <td>Ended</td>\n",
       "      <td>Scripted</td>\n",
       "      <td>0.0</td>\n",
       "      <td>0</td>\n",
       "      <td>1969-02-09</td>\n",
       "      <td>[{'id': 10707, 'credit_id': '525389cd19c295794...</td>\n",
       "      <td>5.0</td>\n",
       "      <td>[]</td>\n",
       "      <td>34330.0</td>\n",
       "      <td>The Great and Glorious Age of Elizabeth</td>\n",
       "      <td>1.0</td>\n",
       "      <td>0.0</td>\n",
       "      <td>0.0</td>\n",
       "      <td>[10707, 383]</td>\n",
       "      <td>[383, 10707]</td>\n",
       "      <td>[127]</td>\n",
       "      <td>[]</td>\n",
       "    </tr>\n",
       "  </tbody>\n",
       "</table>\n",
       "</div>"
      ],
      "text/plain": [
       "                                          created_by episode_run_time  \\\n",
       "0  [{'id': 383, 'credit_id': '525389d019c29579402...             [30]   \n",
       "1  [{'id': 383, 'credit_id': '525389d019c29579402...             [30]   \n",
       "2  [{'id': 383, 'credit_id': '525389d019c29579402...             [30]   \n",
       "3  [{'id': 383, 'credit_id': '525389d019c29579402...             [30]   \n",
       "4  [{'id': 383, 'credit_id': '525389d019c29579402...             [30]   \n",
       "\n",
       "  first_air_date genres  id_show  in_production last_air_date  \\\n",
       "0     1969-01-12     []      601           True    1969-02-16   \n",
       "1     1969-01-12     []      601           True    1969-02-16   \n",
       "2     1969-01-12     []      601           True    1969-02-16   \n",
       "3     1969-01-12     []      601           True    1969-02-16   \n",
       "4     1969-01-12     []      601           True    1969-02-16   \n",
       "\n",
       "                                   name_show  \\\n",
       "0  The Complete and Utter History of Britain   \n",
       "1  The Complete and Utter History of Britain   \n",
       "2  The Complete and Utter History of Britain   \n",
       "3  The Complete and Utter History of Britain   \n",
       "4  The Complete and Utter History of Britain   \n",
       "\n",
       "                                            networks  number_of_episodes  \\\n",
       "0  [{'name': 'London Weekend Television', 'id': 1...                 6.0   \n",
       "1  [{'name': 'London Weekend Television', 'id': 1...                 6.0   \n",
       "2  [{'name': 'London Weekend Television', 'id': 1...                 6.0   \n",
       "3  [{'name': 'London Weekend Television', 'id': 1...                 6.0   \n",
       "4  [{'name': 'London Weekend Television', 'id': 1...                 6.0   \n",
       "\n",
       "   number_of_seasons origin_country original_language  \\\n",
       "0                  1           [GB]                en   \n",
       "1                  1           [GB]                en   \n",
       "2                  1           [GB]                en   \n",
       "3                  1           [GB]                en   \n",
       "4                  1           [GB]                en   \n",
       "\n",
       "                               original_name  popularity production_companies  \\\n",
       "0  The Complete and Utter History of Britain         0.6                   []   \n",
       "1  The Complete and Utter History of Britain         0.6                   []   \n",
       "2  The Complete and Utter History of Britain         0.6                   []   \n",
       "3  The Complete and Utter History of Britain         0.6                   []   \n",
       "4  The Complete and Utter History of Britain         0.6                   []   \n",
       "\n",
       "  status      type  vote_average_show  vote_count_show    air_date  \\\n",
       "0  Ended  Scripted                0.0                0  1969-01-12   \n",
       "1  Ended  Scripted                0.0                0  1969-01-19   \n",
       "2  Ended  Scripted                0.0                0  1969-01-26   \n",
       "3  Ended  Scripted                0.0                0  1969-02-02   \n",
       "4  Ended  Scripted                0.0                0  1969-02-09   \n",
       "\n",
       "                                                crew  episode_number  \\\n",
       "0  [{'id': 10707, 'credit_id': '525389cd19c295794...             1.0   \n",
       "1  [{'id': 10707, 'credit_id': '525389cd19c295794...             2.0   \n",
       "2  [{'id': 10707, 'credit_id': '525389cd19c295794...             3.0   \n",
       "3  [{'id': 10707, 'credit_id': '525389cd19c295794...             4.0   \n",
       "4  [{'id': 10707, 'credit_id': '525389cd19c295794...             5.0   \n",
       "\n",
       "  guest_stars    id_ep                                          name_ep  \\\n",
       "0          []  34326.0  From the Dawn of History to the Normal Conquest   \n",
       "1          []  34328.0          Richard the Lionheart to Robin the Hood   \n",
       "2          []  34327.0             Edward the First to Richard the Last   \n",
       "3          []  34331.0                    Perkin Warbeck to Bloody Mary   \n",
       "4          []  34330.0          The Great and Glorious Age of Elizabeth   \n",
       "\n",
       "   season_number  vote_average_ep  vote_count_ep       crew_id created_by_id  \\\n",
       "0            1.0              0.0            0.0  [10707, 383]  [383, 10707]   \n",
       "1            1.0              0.0            0.0  [10707, 383]  [383, 10707]   \n",
       "2            1.0              0.0            0.0  [10707, 383]  [383, 10707]   \n",
       "3            1.0              0.0            0.0  [10707, 383]  [383, 10707]   \n",
       "4            1.0              0.0            0.0  [10707, 383]  [383, 10707]   \n",
       "\n",
       "  networks_id genres_id  \n",
       "0       [127]        []  \n",
       "1       [127]        []  \n",
       "2       [127]        []  \n",
       "3       [127]        []  \n",
       "4       [127]        []  "
      ]
     },
     "execution_count": 13,
     "metadata": {},
     "output_type": "execute_result"
    }
   ],
   "source": [
    "import_df.head()"
   ]
  },
  {
   "cell_type": "code",
   "execution_count": 12,
   "metadata": {
    "ExecuteTime": {
     "end_time": "2019-07-17T01:50:17.956364Z",
     "start_time": "2019-07-17T01:50:17.131156Z"
    }
   },
   "outputs": [
    {
     "data": {
      "text/plain": [
       "(1089243, 29)"
      ]
     },
     "execution_count": 12,
     "metadata": {},
     "output_type": "execute_result"
    }
   ],
   "source": [
    "mlb = MultiLabelBinarizer()\n",
    "\n",
    "s = import_df.genres_id\n",
    "\n",
    "# s = s.loc[s.isnull()].apply(lambda x: [])\n",
    "\n",
    "genres_id_df = pd.DataFrame(mlb.fit_transform(s),columns=mlb.classes_, index=import_df.index)\n",
    "genres_id_df.shape"
   ]
  },
  {
   "cell_type": "code",
   "execution_count": 13,
   "metadata": {
    "ExecuteTime": {
     "end_time": "2019-07-17T01:50:19.883639Z",
     "start_time": "2019-07-17T01:50:17.958199Z"
    }
   },
   "outputs": [
    {
     "data": {
      "text/plain": [
       "(1089243, 7812)"
      ]
     },
     "execution_count": 13,
     "metadata": {},
     "output_type": "execute_result"
    }
   ],
   "source": [
    "s = import_df.created_by_id\n",
    "\n",
    "created_by_id_df = pd.DataFrame(mlb.fit_transform(s),columns=mlb.classes_, index=import_df.index)\n",
    "created_by_id_df.shape"
   ]
  },
  {
   "cell_type": "code",
   "execution_count": 14,
   "metadata": {
    "ExecuteTime": {
     "end_time": "2019-07-17T01:50:21.112432Z",
     "start_time": "2019-07-17T01:50:19.887098Z"
    }
   },
   "outputs": [
    {
     "data": {
      "text/plain": [
       "(1089243, 26142)"
      ]
     },
     "execution_count": 14,
     "metadata": {},
     "output_type": "execute_result"
    }
   ],
   "source": [
    "s = import_df.crew_id\n",
    "\n",
    "crew_id_df = pd.DataFrame(mlb.fit_transform(s),columns=mlb.classes_, index=import_df.index)\n",
    "crew_id_df.shape"
   ]
  },
  {
   "cell_type": "code",
   "execution_count": null,
   "metadata": {
    "ExecuteTime": {
     "start_time": "2019-07-17T01:56:16.809Z"
    }
   },
   "outputs": [],
   "source": [
    "s = import_df.networks_id\n",
    "\n",
    "networks_id_df = pd.DataFrame(mlb.fit_transform(s),columns=mlb.classes_, index=import_df.index)\n",
    "networks_id_df.shape"
   ]
  },
  {
   "cell_type": "code",
   "execution_count": 15,
   "metadata": {
    "ExecuteTime": {
     "end_time": "2019-07-17T03:03:22.524177Z",
     "start_time": "2019-07-17T03:03:22.516624Z"
    }
   },
   "outputs": [],
   "source": [
    "# Import api key\n",
    "tmdb.API_KEY = open('../api_key', 'rt').read()"
   ]
  },
  {
   "cell_type": "code",
   "execution_count": 16,
   "metadata": {
    "ExecuteTime": {
     "end_time": "2019-07-17T03:03:24.030982Z",
     "start_time": "2019-07-17T03:03:23.981133Z"
    }
   },
   "outputs": [
    {
     "data": {
      "text/html": [
       "<div>\n",
       "<style scoped>\n",
       "    .dataframe tbody tr th:only-of-type {\n",
       "        vertical-align: middle;\n",
       "    }\n",
       "\n",
       "    .dataframe tbody tr th {\n",
       "        vertical-align: top;\n",
       "    }\n",
       "\n",
       "    .dataframe thead th {\n",
       "        text-align: right;\n",
       "    }\n",
       "</style>\n",
       "<table border=\"1\" class=\"dataframe\">\n",
       "  <thead>\n",
       "    <tr style=\"text-align: right;\">\n",
       "      <th></th>\n",
       "      <th>created_by</th>\n",
       "      <th>episode_run_time</th>\n",
       "      <th>first_air_date</th>\n",
       "      <th>genres</th>\n",
       "      <th>id_show</th>\n",
       "      <th>in_production</th>\n",
       "      <th>last_air_date</th>\n",
       "      <th>name_show</th>\n",
       "      <th>networks</th>\n",
       "      <th>number_of_episodes</th>\n",
       "      <th>number_of_seasons</th>\n",
       "      <th>origin_country</th>\n",
       "      <th>original_language</th>\n",
       "      <th>original_name</th>\n",
       "      <th>popularity</th>\n",
       "      <th>production_companies</th>\n",
       "      <th>status</th>\n",
       "      <th>type</th>\n",
       "      <th>vote_average_show</th>\n",
       "      <th>vote_count_show</th>\n",
       "      <th>air_date</th>\n",
       "      <th>crew</th>\n",
       "      <th>episode_number</th>\n",
       "      <th>guest_stars</th>\n",
       "      <th>id_ep</th>\n",
       "      <th>name_ep</th>\n",
       "      <th>season_number</th>\n",
       "      <th>vote_average_ep</th>\n",
       "      <th>vote_count_ep</th>\n",
       "      <th>crew_id</th>\n",
       "      <th>created_by_id</th>\n",
       "      <th>networks_id</th>\n",
       "      <th>genres_id</th>\n",
       "    </tr>\n",
       "  </thead>\n",
       "  <tbody>\n",
       "    <tr>\n",
       "      <th>0</th>\n",
       "      <td>[{'id': 383, 'credit_id': '525389d019c29579402...</td>\n",
       "      <td>[30]</td>\n",
       "      <td>1969-01-12</td>\n",
       "      <td>[]</td>\n",
       "      <td>601</td>\n",
       "      <td>True</td>\n",
       "      <td>1969-02-16</td>\n",
       "      <td>The Complete and Utter History of Britain</td>\n",
       "      <td>[{'name': 'London Weekend Television', 'id': 1...</td>\n",
       "      <td>6.0</td>\n",
       "      <td>1</td>\n",
       "      <td>[GB]</td>\n",
       "      <td>en</td>\n",
       "      <td>The Complete and Utter History of Britain</td>\n",
       "      <td>0.6</td>\n",
       "      <td>[]</td>\n",
       "      <td>Ended</td>\n",
       "      <td>Scripted</td>\n",
       "      <td>0.0</td>\n",
       "      <td>0</td>\n",
       "      <td>1969-01-12</td>\n",
       "      <td>[{'id': 10707, 'credit_id': '525389cd19c295794...</td>\n",
       "      <td>1.0</td>\n",
       "      <td>[]</td>\n",
       "      <td>34326.0</td>\n",
       "      <td>From the Dawn of History to the Normal Conquest</td>\n",
       "      <td>1.0</td>\n",
       "      <td>0.0</td>\n",
       "      <td>0.0</td>\n",
       "      <td>[10707, 383]</td>\n",
       "      <td>[383, 10707]</td>\n",
       "      <td>[127]</td>\n",
       "      <td>[]</td>\n",
       "    </tr>\n",
       "    <tr>\n",
       "      <th>1</th>\n",
       "      <td>[{'id': 383, 'credit_id': '525389d019c29579402...</td>\n",
       "      <td>[30]</td>\n",
       "      <td>1969-01-12</td>\n",
       "      <td>[]</td>\n",
       "      <td>601</td>\n",
       "      <td>True</td>\n",
       "      <td>1969-02-16</td>\n",
       "      <td>The Complete and Utter History of Britain</td>\n",
       "      <td>[{'name': 'London Weekend Television', 'id': 1...</td>\n",
       "      <td>6.0</td>\n",
       "      <td>1</td>\n",
       "      <td>[GB]</td>\n",
       "      <td>en</td>\n",
       "      <td>The Complete and Utter History of Britain</td>\n",
       "      <td>0.6</td>\n",
       "      <td>[]</td>\n",
       "      <td>Ended</td>\n",
       "      <td>Scripted</td>\n",
       "      <td>0.0</td>\n",
       "      <td>0</td>\n",
       "      <td>1969-01-19</td>\n",
       "      <td>[{'id': 10707, 'credit_id': '525389cd19c295794...</td>\n",
       "      <td>2.0</td>\n",
       "      <td>[]</td>\n",
       "      <td>34328.0</td>\n",
       "      <td>Richard the Lionheart to Robin the Hood</td>\n",
       "      <td>1.0</td>\n",
       "      <td>0.0</td>\n",
       "      <td>0.0</td>\n",
       "      <td>[10707, 383]</td>\n",
       "      <td>[383, 10707]</td>\n",
       "      <td>[127]</td>\n",
       "      <td>[]</td>\n",
       "    </tr>\n",
       "    <tr>\n",
       "      <th>2</th>\n",
       "      <td>[{'id': 383, 'credit_id': '525389d019c29579402...</td>\n",
       "      <td>[30]</td>\n",
       "      <td>1969-01-12</td>\n",
       "      <td>[]</td>\n",
       "      <td>601</td>\n",
       "      <td>True</td>\n",
       "      <td>1969-02-16</td>\n",
       "      <td>The Complete and Utter History of Britain</td>\n",
       "      <td>[{'name': 'London Weekend Television', 'id': 1...</td>\n",
       "      <td>6.0</td>\n",
       "      <td>1</td>\n",
       "      <td>[GB]</td>\n",
       "      <td>en</td>\n",
       "      <td>The Complete and Utter History of Britain</td>\n",
       "      <td>0.6</td>\n",
       "      <td>[]</td>\n",
       "      <td>Ended</td>\n",
       "      <td>Scripted</td>\n",
       "      <td>0.0</td>\n",
       "      <td>0</td>\n",
       "      <td>1969-01-26</td>\n",
       "      <td>[{'id': 10707, 'credit_id': '525389cd19c295794...</td>\n",
       "      <td>3.0</td>\n",
       "      <td>[]</td>\n",
       "      <td>34327.0</td>\n",
       "      <td>Edward the First to Richard the Last</td>\n",
       "      <td>1.0</td>\n",
       "      <td>0.0</td>\n",
       "      <td>0.0</td>\n",
       "      <td>[10707, 383]</td>\n",
       "      <td>[383, 10707]</td>\n",
       "      <td>[127]</td>\n",
       "      <td>[]</td>\n",
       "    </tr>\n",
       "    <tr>\n",
       "      <th>3</th>\n",
       "      <td>[{'id': 383, 'credit_id': '525389d019c29579402...</td>\n",
       "      <td>[30]</td>\n",
       "      <td>1969-01-12</td>\n",
       "      <td>[]</td>\n",
       "      <td>601</td>\n",
       "      <td>True</td>\n",
       "      <td>1969-02-16</td>\n",
       "      <td>The Complete and Utter History of Britain</td>\n",
       "      <td>[{'name': 'London Weekend Television', 'id': 1...</td>\n",
       "      <td>6.0</td>\n",
       "      <td>1</td>\n",
       "      <td>[GB]</td>\n",
       "      <td>en</td>\n",
       "      <td>The Complete and Utter History of Britain</td>\n",
       "      <td>0.6</td>\n",
       "      <td>[]</td>\n",
       "      <td>Ended</td>\n",
       "      <td>Scripted</td>\n",
       "      <td>0.0</td>\n",
       "      <td>0</td>\n",
       "      <td>1969-02-02</td>\n",
       "      <td>[{'id': 10707, 'credit_id': '525389cd19c295794...</td>\n",
       "      <td>4.0</td>\n",
       "      <td>[]</td>\n",
       "      <td>34331.0</td>\n",
       "      <td>Perkin Warbeck to Bloody Mary</td>\n",
       "      <td>1.0</td>\n",
       "      <td>0.0</td>\n",
       "      <td>0.0</td>\n",
       "      <td>[10707, 383]</td>\n",
       "      <td>[383, 10707]</td>\n",
       "      <td>[127]</td>\n",
       "      <td>[]</td>\n",
       "    </tr>\n",
       "    <tr>\n",
       "      <th>4</th>\n",
       "      <td>[{'id': 383, 'credit_id': '525389d019c29579402...</td>\n",
       "      <td>[30]</td>\n",
       "      <td>1969-01-12</td>\n",
       "      <td>[]</td>\n",
       "      <td>601</td>\n",
       "      <td>True</td>\n",
       "      <td>1969-02-16</td>\n",
       "      <td>The Complete and Utter History of Britain</td>\n",
       "      <td>[{'name': 'London Weekend Television', 'id': 1...</td>\n",
       "      <td>6.0</td>\n",
       "      <td>1</td>\n",
       "      <td>[GB]</td>\n",
       "      <td>en</td>\n",
       "      <td>The Complete and Utter History of Britain</td>\n",
       "      <td>0.6</td>\n",
       "      <td>[]</td>\n",
       "      <td>Ended</td>\n",
       "      <td>Scripted</td>\n",
       "      <td>0.0</td>\n",
       "      <td>0</td>\n",
       "      <td>1969-02-09</td>\n",
       "      <td>[{'id': 10707, 'credit_id': '525389cd19c295794...</td>\n",
       "      <td>5.0</td>\n",
       "      <td>[]</td>\n",
       "      <td>34330.0</td>\n",
       "      <td>The Great and Glorious Age of Elizabeth</td>\n",
       "      <td>1.0</td>\n",
       "      <td>0.0</td>\n",
       "      <td>0.0</td>\n",
       "      <td>[10707, 383]</td>\n",
       "      <td>[383, 10707]</td>\n",
       "      <td>[127]</td>\n",
       "      <td>[]</td>\n",
       "    </tr>\n",
       "  </tbody>\n",
       "</table>\n",
       "</div>"
      ],
      "text/plain": [
       "                                          created_by episode_run_time  \\\n",
       "0  [{'id': 383, 'credit_id': '525389d019c29579402...             [30]   \n",
       "1  [{'id': 383, 'credit_id': '525389d019c29579402...             [30]   \n",
       "2  [{'id': 383, 'credit_id': '525389d019c29579402...             [30]   \n",
       "3  [{'id': 383, 'credit_id': '525389d019c29579402...             [30]   \n",
       "4  [{'id': 383, 'credit_id': '525389d019c29579402...             [30]   \n",
       "\n",
       "  first_air_date genres  id_show  in_production last_air_date  \\\n",
       "0     1969-01-12     []      601           True    1969-02-16   \n",
       "1     1969-01-12     []      601           True    1969-02-16   \n",
       "2     1969-01-12     []      601           True    1969-02-16   \n",
       "3     1969-01-12     []      601           True    1969-02-16   \n",
       "4     1969-01-12     []      601           True    1969-02-16   \n",
       "\n",
       "                                   name_show  \\\n",
       "0  The Complete and Utter History of Britain   \n",
       "1  The Complete and Utter History of Britain   \n",
       "2  The Complete and Utter History of Britain   \n",
       "3  The Complete and Utter History of Britain   \n",
       "4  The Complete and Utter History of Britain   \n",
       "\n",
       "                                            networks  number_of_episodes  \\\n",
       "0  [{'name': 'London Weekend Television', 'id': 1...                 6.0   \n",
       "1  [{'name': 'London Weekend Television', 'id': 1...                 6.0   \n",
       "2  [{'name': 'London Weekend Television', 'id': 1...                 6.0   \n",
       "3  [{'name': 'London Weekend Television', 'id': 1...                 6.0   \n",
       "4  [{'name': 'London Weekend Television', 'id': 1...                 6.0   \n",
       "\n",
       "   number_of_seasons origin_country original_language  \\\n",
       "0                  1           [GB]                en   \n",
       "1                  1           [GB]                en   \n",
       "2                  1           [GB]                en   \n",
       "3                  1           [GB]                en   \n",
       "4                  1           [GB]                en   \n",
       "\n",
       "                               original_name  popularity production_companies  \\\n",
       "0  The Complete and Utter History of Britain         0.6                   []   \n",
       "1  The Complete and Utter History of Britain         0.6                   []   \n",
       "2  The Complete and Utter History of Britain         0.6                   []   \n",
       "3  The Complete and Utter History of Britain         0.6                   []   \n",
       "4  The Complete and Utter History of Britain         0.6                   []   \n",
       "\n",
       "  status      type  vote_average_show  vote_count_show    air_date  \\\n",
       "0  Ended  Scripted                0.0                0  1969-01-12   \n",
       "1  Ended  Scripted                0.0                0  1969-01-19   \n",
       "2  Ended  Scripted                0.0                0  1969-01-26   \n",
       "3  Ended  Scripted                0.0                0  1969-02-02   \n",
       "4  Ended  Scripted                0.0                0  1969-02-09   \n",
       "\n",
       "                                                crew  episode_number  \\\n",
       "0  [{'id': 10707, 'credit_id': '525389cd19c295794...             1.0   \n",
       "1  [{'id': 10707, 'credit_id': '525389cd19c295794...             2.0   \n",
       "2  [{'id': 10707, 'credit_id': '525389cd19c295794...             3.0   \n",
       "3  [{'id': 10707, 'credit_id': '525389cd19c295794...             4.0   \n",
       "4  [{'id': 10707, 'credit_id': '525389cd19c295794...             5.0   \n",
       "\n",
       "  guest_stars    id_ep                                          name_ep  \\\n",
       "0          []  34326.0  From the Dawn of History to the Normal Conquest   \n",
       "1          []  34328.0          Richard the Lionheart to Robin the Hood   \n",
       "2          []  34327.0             Edward the First to Richard the Last   \n",
       "3          []  34331.0                    Perkin Warbeck to Bloody Mary   \n",
       "4          []  34330.0          The Great and Glorious Age of Elizabeth   \n",
       "\n",
       "   season_number  vote_average_ep  vote_count_ep       crew_id created_by_id  \\\n",
       "0            1.0              0.0            0.0  [10707, 383]  [383, 10707]   \n",
       "1            1.0              0.0            0.0  [10707, 383]  [383, 10707]   \n",
       "2            1.0              0.0            0.0  [10707, 383]  [383, 10707]   \n",
       "3            1.0              0.0            0.0  [10707, 383]  [383, 10707]   \n",
       "4            1.0              0.0            0.0  [10707, 383]  [383, 10707]   \n",
       "\n",
       "  networks_id genres_id  \n",
       "0       [127]        []  \n",
       "1       [127]        []  \n",
       "2       [127]        []  \n",
       "3       [127]        []  \n",
       "4       [127]        []  "
      ]
     },
     "execution_count": 16,
     "metadata": {},
     "output_type": "execute_result"
    }
   ],
   "source": [
    "import_df.head()"
   ]
  },
  {
   "cell_type": "code",
   "execution_count": 17,
   "metadata": {
    "ExecuteTime": {
     "end_time": "2019-07-17T03:03:25.782914Z",
     "start_time": "2019-07-17T03:03:25.740654Z"
    }
   },
   "outputs": [
    {
     "data": {
      "text/plain": [
       "created_by                                                             []\n",
       "episode_run_time                                                     [60]\n",
       "first_air_date                                                 1994-07-24\n",
       "genres                  [{'id': 80, 'name': 'Crime'}, {'id': 18, 'name...\n",
       "id_show                                                               787\n",
       "in_production                                                       False\n",
       "last_air_date                                                  1998-07-05\n",
       "name_show                                                        Wycliffe\n",
       "networks                [{'name': 'ITV', 'id': 9, 'logo_path': '/5Rmw4...\n",
       "number_of_episodes                                                     36\n",
       "number_of_seasons                                                       5\n",
       "origin_country                                                       [GB]\n",
       "original_language                                                      en\n",
       "original_name                                                    Wycliffe\n",
       "popularity                                                          3.679\n",
       "production_companies    [{'id': 73196, 'logo_path': None, 'name': 'Red...\n",
       "status                                                              Ended\n",
       "type                                                             Scripted\n",
       "vote_average_show                                                       7\n",
       "vote_count_show                                                         1\n",
       "air_date                                                       1998-06-21\n",
       "crew                                                                   []\n",
       "episode_number                                                          5\n",
       "guest_stars             [{'id': 1220377, 'name': 'Sammy Johnson', 'cre...\n",
       "id_ep                                                               42885\n",
       "name_ep                                                             Scope\n",
       "season_number                                                           5\n",
       "vote_average_ep                                                         0\n",
       "vote_count_ep                                                           0\n",
       "crew_id                                                                []\n",
       "created_by_id                                                          []\n",
       "networks_id                                                           [9]\n",
       "genres_id                                                        [80, 18]\n",
       "Name: 10186, dtype: object"
      ]
     },
     "execution_count": 17,
     "metadata": {},
     "output_type": "execute_result"
    }
   ],
   "source": [
    "import_df.iloc[10000]"
   ]
  },
  {
   "cell_type": "code",
   "execution_count": 18,
   "metadata": {
    "ExecuteTime": {
     "end_time": "2019-07-17T03:03:30.241147Z",
     "start_time": "2019-07-17T03:03:30.236093Z"
    }
   },
   "outputs": [],
   "source": [
    "a = tmdb.TV(42885)"
   ]
  },
  {
   "cell_type": "code",
   "execution_count": 19,
   "metadata": {
    "ExecuteTime": {
     "end_time": "2019-07-17T03:03:31.063634Z",
     "start_time": "2019-07-17T03:03:30.947978Z"
    }
   },
   "outputs": [
    {
     "data": {
      "text/plain": [
       "{'id': 42885,\n",
       " 'imdb_id': 'tt1145380',\n",
       " 'freebase_mid': '/m/0j_m6xk',\n",
       " 'freebase_id': None,\n",
       " 'tvdb_id': None,\n",
       " 'tvrage_id': None,\n",
       " 'facebook_id': None,\n",
       " 'instagram_id': None,\n",
       " 'twitter_id': None}"
      ]
     },
     "execution_count": 19,
     "metadata": {},
     "output_type": "execute_result"
    }
   ],
   "source": [
    "a.external_ids()"
   ]
  },
  {
   "cell_type": "code",
   "execution_count": 20,
   "metadata": {
    "ExecuteTime": {
     "end_time": "2019-07-17T03:03:32.751697Z",
     "start_time": "2019-07-17T03:03:32.748068Z"
    }
   },
   "outputs": [],
   "source": [
    "tv_ep_ids = import_df.id_ep"
   ]
  },
  {
   "cell_type": "code",
   "execution_count": null,
   "metadata": {
    "ExecuteTime": {
     "start_time": "2019-07-17T03:13:07.997Z"
    }
   },
   "outputs": [
    {
     "name": "stdout",
     "output_type": "stream",
     "text": [
      "skipped: 34339\n",
      "skipped: 34334\n",
      "skipped: 1053081\n",
      "skipped: 1053082\n",
      "skipped: 1053083\n",
      "skipped: 1053084\n",
      "skipped: 1053085\n",
      "skipped: 1053086\n",
      "skipped: 1053087\n"
     ]
    }
   ],
   "source": [
    "temp_list = []\n",
    "count = 0\n",
    "start = timer()\n",
    "\n",
    "skipped_ids = []\n",
    "\n",
    "for ep_id in tv_ep_ids.values:\n",
    "    no_response = True\n",
    "    attempt = 0\n",
    "    while no_response:\n",
    "        try:\n",
    "            temp_list.append(tmdb.TV(int(ep_id)).external_ids()['imdb_id'])\n",
    "            no_response = False\n",
    "        except:\n",
    "            time.sleep(1)\n",
    "            attempt += 1\n",
    "                # if trying same file multiple times, skip it\n",
    "            if attempt>10:\n",
    "                skipped_ids.append(int(ep_id))\n",
    "                print('skipped: {}'.format(int(ep_id)))\n",
    "                break\n",
    "    count+=1\n",
    "    \n",
    "    if count%100==0: \n",
    "        print(len(imdb_id_list))\n",
    "        print('seasons: {}'.format(season_count))\n",
    "        end = timer()\n",
    "        print('{:.2f} seconds'.format(end - start))\n",
    "        start = timer()\n",
    "        \n",
    "    if count%10000==0:\n",
    "        f_num = 0\n",
    "        exists = True\n",
    "        while(exists):\n",
    "            f_num += 1\n",
    "            exists = os.path.isfile(\n",
    "                '../data/processed/tv_episodes/tv_episodes_imdb_{}.pkl'.format(f_num))\n",
    " \n",
    "        if not exists:\n",
    "            with open('../data/processed/tv_episodes/tv_episodes_imdb_{}.pkl'.format(f_num), 'wb') as f:\n",
    "                pickle.dump(temp_list, f)\n",
    "            print('saved to: ../data/processed/tv_episodes/tv_episodes_imdb_{}.pkl'.format(f_num))\n",
    "            temp_list = []"
   ]
  },
  {
   "cell_type": "code",
   "execution_count": 21,
   "metadata": {
    "ExecuteTime": {
     "end_time": "2019-07-17T03:03:36.937519Z",
     "start_time": "2019-07-17T03:03:36.837024Z"
    }
   },
   "outputs": [
    {
     "data": {
      "text/plain": [
       "'tt1758290'"
      ]
     },
     "execution_count": 21,
     "metadata": {},
     "output_type": "execute_result"
    }
   ],
   "source": [
    "tmdb.TV(int(34331)).external_ids()['imdb_id']"
   ]
  },
  {
   "cell_type": "code",
   "execution_count": 26,
   "metadata": {
    "ExecuteTime": {
     "end_time": "2019-07-17T03:05:04.398050Z",
     "start_time": "2019-07-17T03:05:04.389093Z"
    }
   },
   "outputs": [
    {
     "data": {
      "text/plain": [
       "0    34326.0\n",
       "1    34328.0\n",
       "2    34327.0\n",
       "3    34331.0\n",
       "4    34330.0\n",
       "5    34329.0\n",
       "6    34333.0\n",
       "7    34332.0\n",
       "8    34335.0\n",
       "9    34336.0\n",
       "Name: id_ep, dtype: float64"
      ]
     },
     "execution_count": 26,
     "metadata": {},
     "output_type": "execute_result"
    }
   ],
   "source": [
    "tv_ep_ids[:10]"
   ]
  },
  {
   "cell_type": "code",
   "execution_count": null,
   "metadata": {},
   "outputs": [],
   "source": []
  }
 ],
 "metadata": {
  "kernelspec": {
   "display_name": "Python 3",
   "language": "python",
   "name": "python3"
  },
  "toc": {
   "base_numbering": 1,
   "nav_menu": {},
   "number_sections": true,
   "sideBar": true,
   "skip_h1_title": false,
   "title_cell": "Table of Contents",
   "title_sidebar": "Contents",
   "toc_cell": false,
   "toc_position": {},
   "toc_section_display": true,
   "toc_window_display": false
  },
  "varInspector": {
   "cols": {
    "lenName": 16,
    "lenType": 16,
    "lenVar": 40
   },
   "kernels_config": {
    "python": {
     "delete_cmd_postfix": "",
     "delete_cmd_prefix": "del ",
     "library": "var_list.py",
     "varRefreshCmd": "print(var_dic_list())"
    },
    "r": {
     "delete_cmd_postfix": ") ",
     "delete_cmd_prefix": "rm(",
     "library": "var_list.r",
     "varRefreshCmd": "cat(var_dic_list()) "
    }
   },
   "position": {
    "height": "369px",
    "left": "528px",
    "right": "20px",
    "top": "109px",
    "width": "542px"
   },
   "types_to_exclude": [
    "module",
    "function",
    "builtin_function_or_method",
    "instance",
    "_Feature"
   ],
   "window_display": false
  }
 },
 "nbformat": 4,
 "nbformat_minor": 2
}
